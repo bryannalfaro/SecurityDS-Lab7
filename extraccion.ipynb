{
 "cells": [
  {
   "cell_type": "code",
   "execution_count": 63,
   "metadata": {},
   "outputs": [],
   "source": [
    "#Referencia : Codigo brindado en clase\n",
    "#Integrantes : Bryann Alfaro, Raul Jimenez, Donaldo Garcia"
   ]
  },
  {
   "cell_type": "code",
   "execution_count": 64,
   "metadata": {},
   "outputs": [],
   "source": [
    "import tensorflow as tf\n",
    "from tensorflow.keras.layers import Conv2D, MaxPool2D, Dense, Flatten\n",
    "import numpy as np\n",
    "import matplotlib.pyplot as plt\n",
    "import matplotlib\n",
    "from art.estimators.classification import KerasClassifier #No soporta TF 2\n",
    "from art.utils import load_dataset\n",
    "\n",
    "import os\n",
    "import pandas as pd\n",
    "from PIL import Image\n",
    "import numpy as np\n",
    "import matplotlib.pyplot as plt\n",
    "\n",
    "%matplotlib inline\n",
    "tf.compat.v1.disable_eager_execution()"
   ]
  },
  {
   "cell_type": "code",
   "execution_count": 65,
   "metadata": {},
   "outputs": [],
   "source": [
    "#Load the model \n",
    "model1 = tf.keras.models.load_model('modelo_lab')"
   ]
  },
  {
   "cell_type": "code",
   "execution_count": 66,
   "metadata": {},
   "outputs": [
    {
     "data": {
      "text/html": [
       "<div>\n",
       "<style scoped>\n",
       "    .dataframe tbody tr th:only-of-type {\n",
       "        vertical-align: middle;\n",
       "    }\n",
       "\n",
       "    .dataframe tbody tr th {\n",
       "        vertical-align: top;\n",
       "    }\n",
       "\n",
       "    .dataframe thead th {\n",
       "        text-align: right;\n",
       "    }\n",
       "</style>\n",
       "<table border=\"1\" class=\"dataframe\">\n",
       "  <thead>\n",
       "    <tr style=\"text-align: right;\">\n",
       "      <th></th>\n",
       "      <th>Family</th>\n",
       "      <th>Image</th>\n",
       "      <th>Name</th>\n",
       "      <th>Family_cat</th>\n",
       "    </tr>\n",
       "  </thead>\n",
       "  <tbody>\n",
       "    <tr>\n",
       "      <th>0</th>\n",
       "      <td>Adialer.C</td>\n",
       "      <td>[[2, 3, 0, 7, 1, 1, 0, 2, 12, 13, 15, 9, 12, 1...</td>\n",
       "      <td>000bde2e9a94ba41c0c111ffd80647c2.png</td>\n",
       "      <td>0.0</td>\n",
       "    </tr>\n",
       "    <tr>\n",
       "      <th>1</th>\n",
       "      <td>Adialer.C</td>\n",
       "      <td>[[2, 14, 2, 0, 0, 0, 4, 4, 11, 6, 12, 20, 9, 1...</td>\n",
       "      <td>000e30a0819ac7ed931d629ce2ef8948.png</td>\n",
       "      <td>0.0</td>\n",
       "    </tr>\n",
       "    <tr>\n",
       "      <th>2</th>\n",
       "      <td>Adialer.C</td>\n",
       "      <td>[[2, 14, 2, 0, 0, 0, 5, 6, 11, 6, 12, 20, 9, 1...</td>\n",
       "      <td>002f06eff1d222560939be72583d6ae9.png</td>\n",
       "      <td>0.0</td>\n",
       "    </tr>\n",
       "    <tr>\n",
       "      <th>3</th>\n",
       "      <td>Adialer.C</td>\n",
       "      <td>[[2, 3, 0, 6, 1, 0, 0, 2, 13, 13, 15, 9, 12, 1...</td>\n",
       "      <td>0044f0746b812f6b454ce210bc58c572.png</td>\n",
       "      <td>0.0</td>\n",
       "    </tr>\n",
       "    <tr>\n",
       "      <th>4</th>\n",
       "      <td>Adialer.C</td>\n",
       "      <td>[[2, 3, 0, 6, 1, 0, 0, 2, 12, 13, 15, 9, 12, 1...</td>\n",
       "      <td>0046a83d932a3d431eb21a99b46d6af7.png</td>\n",
       "      <td>0.0</td>\n",
       "    </tr>\n",
       "  </tbody>\n",
       "</table>\n",
       "</div>"
      ],
      "text/plain": [
       "      Family                                              Image  \\\n",
       "0  Adialer.C  [[2, 3, 0, 7, 1, 1, 0, 2, 12, 13, 15, 9, 12, 1...   \n",
       "1  Adialer.C  [[2, 14, 2, 0, 0, 0, 4, 4, 11, 6, 12, 20, 9, 1...   \n",
       "2  Adialer.C  [[2, 14, 2, 0, 0, 0, 5, 6, 11, 6, 12, 20, 9, 1...   \n",
       "3  Adialer.C  [[2, 3, 0, 6, 1, 0, 0, 2, 13, 13, 15, 9, 12, 1...   \n",
       "4  Adialer.C  [[2, 3, 0, 6, 1, 0, 0, 2, 12, 13, 15, 9, 12, 1...   \n",
       "\n",
       "                                   Name  Family_cat  \n",
       "0  000bde2e9a94ba41c0c111ffd80647c2.png         0.0  \n",
       "1  000e30a0819ac7ed931d629ce2ef8948.png         0.0  \n",
       "2  002f06eff1d222560939be72583d6ae9.png         0.0  \n",
       "3  0044f0746b812f6b454ce210bc58c572.png         0.0  \n",
       "4  0046a83d932a3d431eb21a99b46d6af7.png         0.0  "
      ]
     },
     "execution_count": 66,
     "metadata": {},
     "output_type": "execute_result"
    }
   ],
   "source": [
    "# crea un dataframe a partir de las carpetas dentro de \"malimg_dataset\" y sus archivos .bytes\n",
    "df = pd.DataFrame(columns=['Family', 'Image'])\n",
    "fam_cat = {}\n",
    "for i, family in enumerate(os.listdir('malimg_dataset')):\n",
    "    fam_cat[i] = family\n",
    "    for image in os.listdir(f'malimg_dataset/{family}'):\n",
    "        imagen = Image.open(f'malimg_dataset/{family}/{image}')\n",
    "        imagen = imagen.resize((64,64))\n",
    "        new_data = {'Family': [family], 'Name': [image], 'Family_cat': [i], 'Image': [np.array(imagen).tolist()]}\n",
    "        new_df = pd.DataFrame(new_data)\n",
    "        df = pd.concat([df, new_df], ignore_index=True)\n",
    "# muestra las primeras 5 filas del dataframe\n",
    "df.head()"
   ]
  },
  {
   "cell_type": "code",
   "execution_count": 67,
   "metadata": {},
   "outputs": [
    {
     "data": {
      "text/plain": [
       "Family\n",
       "Allaple.A         2949\n",
       "Allaple.L         1591\n",
       "Yuner.A            800\n",
       "Instantaccess      431\n",
       "VB.AT              408\n",
       "Fakerean           381\n",
       "Lolyda.AA1         213\n",
       "C2LOP.gen!g        200\n",
       "Alueron.gen!J      198\n",
       "Lolyda.AA2         184\n",
       "Dialplatform.B     177\n",
       "Dontovo.A          162\n",
       "Lolyda.AT          159\n",
       "Rbot!gen           158\n",
       "dtype: int64"
      ]
     },
     "execution_count": 67,
     "metadata": {},
     "output_type": "execute_result"
    }
   ],
   "source": [
    "# removemos las familias con menos de 150 muestras del dataset\n",
    "df = df[df['Family'].isin(df['Family'].value_counts()[df['Family'].value_counts() > 150].index)]\n",
    "df.value_counts('Family')"
   ]
  },
  {
   "cell_type": "code",
   "execution_count": 68,
   "metadata": {},
   "outputs": [],
   "source": [
    "# use on the the last 20% of the dataset\n",
    "df = df.iloc[int(len(df)*0.8):]"
   ]
  },
  {
   "cell_type": "code",
   "execution_count": 69,
   "metadata": {},
   "outputs": [
    {
     "data": {
      "text/plain": [
       "array([[[ 91,  88,  95, ...,  93, 110,  92],\n",
       "        [ 97, 110,  99, ..., 105, 101,  93],\n",
       "        [114,  96,  93, ..., 108, 101,  98],\n",
       "        ...,\n",
       "        [108, 104,  57, ...,  85,  91,  97],\n",
       "        [ 65,  60,  73, ...,  60,  56,  59],\n",
       "        [137, 126, 127, ..., 123, 128, 126]],\n",
       "\n",
       "       [[ 41,  35,  28, ...,  26,  37,  38],\n",
       "        [ 15,  14,  12, ...,   7,  10,  11],\n",
       "        [  0,   0,   0, ...,   0,   0,   0],\n",
       "        ...,\n",
       "        [144, 167, 165, ..., 143, 161, 159],\n",
       "        [ 98, 113, 112, ..., 110, 119,  93],\n",
       "        [ 65,  64,  68, ...,  68,  72,  68]],\n",
       "\n",
       "       [[ 41,  35,  28, ...,  26,  37,  38],\n",
       "        [ 15,  14,  12, ...,   7,  11,  11],\n",
       "        [  0,   0,   0, ...,   0,   0,   0],\n",
       "        ...,\n",
       "        [ 94,  97,  97, ..., 103,  92,  87],\n",
       "        [ 48,  49,  45, ...,  52,  43,  47],\n",
       "        [ 20,  25,  29, ...,  28,  28,  24]],\n",
       "\n",
       "       ...,\n",
       "\n",
       "       [[ 91,  88,  95, ...,  93, 110,  92],\n",
       "        [ 97, 110,  99, ..., 105, 101,  93],\n",
       "        [114,  96,  93, ..., 108, 101,  98],\n",
       "        ...,\n",
       "        [108, 104,  57, ...,  85,  91,  97],\n",
       "        [ 65,  60,  73, ...,  60,  56,  59],\n",
       "        [137, 126, 127, ..., 123, 128, 126]],\n",
       "\n",
       "       [[ 91,  88,  95, ...,  93, 110,  92],\n",
       "        [ 97, 110,  99, ..., 105, 101,  93],\n",
       "        [114,  96,  93, ..., 108, 101,  98],\n",
       "        ...,\n",
       "        [108, 104,  57, ...,  85,  91,  97],\n",
       "        [ 65,  60,  73, ...,  60,  56,  59],\n",
       "        [137, 126, 127, ..., 123, 128, 126]],\n",
       "\n",
       "       [[ 91,  88,  95, ...,  93, 110,  92],\n",
       "        [ 97, 110,  99, ..., 105, 101,  93],\n",
       "        [114,  96,  93, ..., 108, 101,  98],\n",
       "        ...,\n",
       "        [108, 104,  57, ...,  85,  91,  97],\n",
       "        [ 65,  60,  73, ...,  60,  56,  59],\n",
       "        [137, 126, 127, ..., 123, 128, 126]]])"
      ]
     },
     "execution_count": 69,
     "metadata": {},
     "output_type": "execute_result"
    }
   ],
   "source": [
    "#Dividir el dataset\n",
    "from sklearn.model_selection import train_test_split\n",
    "X = df['Image'].values\n",
    "y = df['Family_cat'].values\n",
    "#convert X to numpy array and inside with simple list\n",
    "X = np.array([np.array(xi) for xi in X])\n",
    "\n",
    "X_train, X_test, y_train, y_test = train_test_split(X, y, test_size=0.2, random_state=42)\n",
    "\n",
    "#Normalizar los datos\n",
    "X_train"
   ]
  },
  {
   "cell_type": "code",
   "execution_count": 70,
   "metadata": {},
   "outputs": [],
   "source": [
    "#Normalizar los datos\n",
    "X_train = X_train/255\n",
    "X_test = X_test/255"
   ]
  },
  {
   "cell_type": "code",
   "execution_count": 71,
   "metadata": {},
   "outputs": [
    {
     "data": {
      "text/plain": [
       "0.9333333333333333"
      ]
     },
     "execution_count": 71,
     "metadata": {},
     "output_type": "execute_result"
    },
    {
     "data": {
      "image/png": "[encoded data removed]",
      "text/plain": [
       "<Figure size 640x480 with 1 Axes>"
      ]
     },
     "metadata": {},
     "output_type": "display_data"
    }
   ],
   "source": [
    "#Mostrar una imagen\n",
    "plt.imshow(X_train[0])\n",
    "#mostrar la normalizacion\n",
    "X_train[0].max()"
   ]
  },
  {
   "cell_type": "code",
   "execution_count": 72,
   "metadata": {},
   "outputs": [
    {
     "name": "stdout",
     "output_type": "stream",
     "text": [
      "(1282, 64, 64) (321, 64, 64)\n"
     ]
    }
   ],
   "source": [
    "print(X_train.shape, X_test.shape)"
   ]
  },
  {
   "cell_type": "code",
   "execution_count": 73,
   "metadata": {},
   "outputs": [],
   "source": [
    "X_train = X_train.reshape(1282, 64, 64, 1)\n",
    "X_test = X_test.reshape(321, 64, 64, 1)"
   ]
  },
  {
   "cell_type": "code",
   "execution_count": 74,
   "metadata": {},
   "outputs": [],
   "source": [
    "from tensorflow.keras.utils import to_categorical\n",
    "categorical_y_entrenamiento = to_categorical(y_train, 25)\n",
    "categorical_y_test = to_categorical(y_test, 25)"
   ]
  },
  {
   "attachments": {},
   "cell_type": "markdown",
   "metadata": {},
   "source": [
    "# Ataque de extraccion"
   ]
  },
  {
   "cell_type": "code",
   "execution_count": 77,
   "metadata": {},
   "outputs": [],
   "source": [
    "clasificador = KerasClassifier(\n",
    "    model=model1,\n",
    "    clip_values=(0.0, 1.0))"
   ]
  },
  {
   "cell_type": "code",
   "execution_count": 78,
   "metadata": {},
   "outputs": [],
   "source": [
    "from art.attacks.extraction import CopycatCNN\n",
    "# Creating the \"neural net thief\" object\n",
    "# that will steal the original classifier\n",
    "copycat_cnn = CopycatCNN(\n",
    "    batch_size_fit=256,\n",
    "    batch_size_query=256,\n",
    "    nb_epochs=20,\n",
    "    nb_stolen=20000,\n",
    "    classifier=clasificador\n",
    "    )"
   ]
  },
  {
   "cell_type": "code",
   "execution_count": 80,
   "metadata": {},
   "outputs": [],
   "source": [
    "from tensorflow.keras.models import Sequential\n",
    "from tensorflow.keras.layers import Dense, Conv2D, MaxPool2D, Flatten\n",
    "modelo_stole = Sequential()\n",
    "modelo_stole.add(Conv2D(filters = 32, kernel_size = (4, 4), input_shape = (64, 64, 1), activation = 'relu'))\n",
    "modelo_stole.add(MaxPool2D(pool_size = (2, 2)))\n",
    "modelo_stole.add(Flatten())\n",
    "modelo_stole.add(Dense(128, activation = 'relu'))\n",
    "modelo_stole.add(Dense(25, activation = 'softmax'))\n",
    "modelo_stole.compile(loss = 'categorical_crossentropy',optimizer = 'rmsprop',metrics = ['accuracy'])\n",
    "\n",
    "model_stolen = KerasClassifier(\n",
    "    model=modelo_stole, \n",
    "    clip_values=(0.0,1.0)\n",
    "    )"
   ]
  },
  {
   "cell_type": "code",
   "execution_count": 82,
   "metadata": {},
   "outputs": [
    {
     "name": "stderr",
     "output_type": "stream",
     "text": [
      "c:\\Users\\raula\\Documents\\RAUL_ANGEL\\UVG_COMPU\\NOVENO_SEMESTRE\\SECURITY-DATA-SCIENCE\\venv\\lib\\site-packages\\keras\\engine\\training_v1.py:2359: UserWarning: `Model.state_updates` will be removed in a future version. This property should not be used in TensorFlow 2.0, as `updates` are applied automatically.\n",
      "  updates=self.state_updates,\n"
     ]
    },
    {
     "name": "stdout",
     "output_type": "stream",
     "text": [
      "Train on 1282 samples\n",
      "Epoch 1/20\n",
      "1282/1282 [==============================] - 1s 1000us/sample - loss: 3.9929 - accuracy: 0.3144\n",
      "Epoch 2/20\n",
      "1282/1282 [==============================] - 1s 945us/sample - loss: 0.7513 - accuracy: 0.6677\n",
      "Epoch 3/20\n",
      "1282/1282 [==============================] - 1s 920us/sample - loss: 0.5022 - accuracy: 0.8549\n",
      "Epoch 4/20\n",
      "1282/1282 [==============================] - 1s 973us/sample - loss: 0.4113 - accuracy: 0.8619\n",
      "Epoch 5/20\n",
      "1282/1282 [==============================] - 1s 974us/sample - loss: 0.6957 - accuracy: 0.8089\n",
      "Epoch 6/20\n",
      "1282/1282 [==============================] - 1s 941us/sample - loss: 0.3774 - accuracy: 0.8760\n",
      "Epoch 7/20\n",
      "1282/1282 [==============================] - 1s 895us/sample - loss: 0.2674 - accuracy: 0.9181\n",
      "Epoch 8/20\n",
      "1282/1282 [==============================] - 1s 889us/sample - loss: 0.8866 - accuracy: 0.7816\n",
      "Epoch 9/20\n",
      "1282/1282 [==============================] - 1s 895us/sample - loss: 0.2483 - accuracy: 0.9329\n",
      "Epoch 10/20\n",
      "1282/1282 [==============================] - 1s 895us/sample - loss: 0.2307 - accuracy: 0.9314\n",
      "Epoch 11/20\n",
      "1282/1282 [==============================] - 1s 893us/sample - loss: 0.6020 - accuracy: 0.8768\n",
      "Epoch 12/20\n",
      "1282/1282 [==============================] - 1s 918us/sample - loss: 0.2208 - accuracy: 0.9353\n",
      "Epoch 13/20\n",
      "1282/1282 [==============================] - 1s 954us/sample - loss: 0.2118 - accuracy: 0.9282\n",
      "Epoch 14/20\n",
      "1282/1282 [==============================] - 1s 977us/sample - loss: 0.1989 - accuracy: 0.9399\n",
      "Epoch 15/20\n",
      "1282/1282 [==============================] - 1s 946us/sample - loss: 0.2155 - accuracy: 0.9267\n",
      "Epoch 16/20\n",
      "1282/1282 [==============================] - 1s 916us/sample - loss: 0.3004 - accuracy: 0.9009\n",
      "Epoch 17/20\n",
      "1282/1282 [==============================] - 1s 896us/sample - loss: 0.3494 - accuracy: 0.8908\n",
      "Epoch 18/20\n",
      "1282/1282 [==============================] - 1s 902us/sample - loss: 0.2262 - accuracy: 0.9337\n",
      "Epoch 19/20\n",
      "1282/1282 [==============================] - 1s 895us/sample - loss: 0.1579 - accuracy: 0.9509\n",
      "Epoch 20/20\n",
      "1282/1282 [==============================] - 1s 931us/sample - loss: 0.1374 - accuracy: 0.9548\n"
     ]
    }
   ],
   "source": [
    "# Extracting a thieved classifier\n",
    "# by training the reference model\n",
    "stolen_classifier = copycat_cnn.extract(\n",
    "    x=X_train, \n",
    "    y=y_train, \n",
    "    thieved_classifier=model_stolen\n",
    "    )"
   ]
  },
  {
   "cell_type": "code",
   "execution_count": 84,
   "metadata": {},
   "outputs": [
    {
     "name": "stderr",
     "output_type": "stream",
     "text": [
      "c:\\Users\\raula\\Documents\\RAUL_ANGEL\\UVG_COMPU\\NOVENO_SEMESTRE\\SECURITY-DATA-SCIENCE\\venv\\lib\\site-packages\\keras\\engine\\training_v1.py:2335: UserWarning: `Model.state_updates` will be removed in a future version. This property should not be used in TensorFlow 2.0, as `updates` are applied automatically.\n",
      "  updates = self.state_updates\n"
     ]
    },
    {
     "name": "stdout",
     "output_type": "stream",
     "text": [
      "Original test loss: 17.51 vs stolen test loss: 14.11\n",
      "Original test accuracy: 0.06 vs stolen test accuracy: 0.06\n"
     ]
    }
   ],
   "source": [
    "# Testing the performance of the original classifier\n",
    "score_original = clasificador._model.evaluate(\n",
    "    x=X_test, \n",
    "    y=categorical_y_test\n",
    "    )\n",
    "\n",
    "# Testing the performance of the stolen classifier\n",
    "score_stolen = stolen_classifier._model.evaluate(\n",
    "    x=X_test, \n",
    "    y=categorical_y_test\n",
    "    )\n",
    "\n",
    "# Comparing test losses\n",
    "print(f\"Original test loss: {score_original[0]:.2f} \" \n",
    "      f\"vs stolen test loss: {score_stolen[0]:.2f}\")\n",
    "\n",
    "# Comparing test accuracies\n",
    "print(f\"Original test accuracy: {score_original[1]:.2f} \" \n",
    "      f\"vs stolen test accuracy: {score_stolen[1]:.2f}\")"
   ]
  }
 ],
 "metadata": {
  "kernelspec": {
   "display_name": "venv",
   "language": "python",
   "name": "python3"
  },
  "language_info": {
   "codemirror_mode": {
    "name": "ipython",
    "version": 3
   },
   "file_extension": ".py",
   "mimetype": "text/x-python",
   "name": "python",
   "nbconvert_exporter": "python",
   "pygments_lexer": "ipython3",
   "version": "3.10.11"
  },
  "orig_nbformat": 4
 },
 "nbformat": 4,
 "nbformat_minor": 2
}
